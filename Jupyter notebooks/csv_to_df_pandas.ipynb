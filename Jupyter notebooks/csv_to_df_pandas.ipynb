{
 "cells": [
  {
   "cell_type": "markdown",
   "metadata": {},
   "source": [
    "# DEPENDENCIES"
   ]
  },
  {
   "cell_type": "code",
   "execution_count": 1,
   "metadata": {},
   "outputs": [],
   "source": [
    "%config InlineBackend.figure_format ='retina'\n",
    "import pandas as pd\n",
    "import os"
   ]
  },
  {
   "cell_type": "code",
   "execution_count": 2,
   "metadata": {},
   "outputs": [
    {
     "name": "stderr",
     "output_type": "stream",
     "text": [
      "<ipython-input-2-4615a404387f>:7: FutureWarning: Passing a negative integer is deprecated in version 1.0 and will not be supported in future version. Instead, use None to not limit the column width.\n",
      "  pd.set_option('display.max_colwidth', -1) # To display all length of each cell\n"
     ]
    }
   ],
   "source": [
    "# To get all results printed: (or \"last_expr\" to only last expression from cell)\n",
    "from IPython.core.interactiveshell import InteractiveShell\n",
    "InteractiveShell.ast_node_interactivity = \"all\"\n",
    "\n",
    "pd.set_option('display.max_columns', None)  # To show all columns on results\n",
    "pd.set_option('display.max_rows', None)     # To show all rows on results\n",
    "pd.set_option('display.max_colwidth', -1) # To display all length of each cell"
   ]
  },
  {
   "cell_type": "markdown",
   "metadata": {},
   "source": [
    "# WORKING DIRECTORY"
   ]
  },
  {
   "cell_type": "code",
   "execution_count": 3,
   "metadata": {},
   "outputs": [
    {
     "name": "stdout",
     "output_type": "stream",
     "text": [
      "/Users/mlcanales/Documents/(Git) Projects/Research Quilting\n",
      "main_path is:  /Users/mlcanales/Documents/(Git) Projects/Research Quilting/\n"
     ]
    }
   ],
   "source": [
    "%cd ..\n",
    "main_path = os.getcwd() + \"/\"\n",
    "print(\"main_path is: \",main_path)"
   ]
  },
  {
   "cell_type": "markdown",
   "metadata": {},
   "source": [
    "# BEGIN"
   ]
  },
  {
   "cell_type": "markdown",
   "metadata": {},
   "source": [
    "https://www.bibliometrix.org/documents/Field_Tags_bibliometrix.pdf"
   ]
  },
  {
   "cell_type": "markdown",
   "metadata": {},
   "source": [
    "Run `add_country` and `add_CR_AU` before changing the labels with `label_remove` and `relabel`."
   ]
  },
  {
   "cell_type": "code",
   "execution_count": 425,
   "metadata": {},
   "outputs": [],
   "source": [
    "df = pd.read_csv(\"scopus.csv\")"
   ]
  },
  {
   "cell_type": "code",
   "execution_count": 417,
   "metadata": {},
   "outputs": [],
   "source": [
    "def label_remove(df):\n",
    "    \"\"\"\n",
    "    Takes a scopus csv transformed into dataframe, and removes labels not needed.\n",
    "    \"\"\"\n",
    "    df.drop(columns = ['Author(s) ID', 'Art. No.', 'Link', 'Affiliations',\n",
    "                       'Molecular Sequence Numbers', 'Chemicals/CAS', 'Tradenames',\n",
    "                       'Manufacturers', 'Funding Details', 'Funding Text 1',\n",
    "                       'Correspondence Address', 'Editors', 'Sponsors','Conference code',\n",
    "                       'CODEN', 'PubMed ID','Publication Stage', 'Access Type', 'EID'], inplace = True)\n",
    "    return()"
   ]
  },
  {
   "cell_type": "code",
   "execution_count": 418,
   "metadata": {},
   "outputs": [],
   "source": [
    "def relabel(df):\n",
    "    \"\"\"\n",
    "    Takes a scopus csv transformed into dataframe, and renames labels to match Bibliometrix's.\n",
    "    \"\"\"\n",
    "    df.rename(columns={\n",
    "        'Authors':'AU', \n",
    "        'Title':'TI', \n",
    "        'Source title':'SO', 'Abbreviated Source Title':'JI',\n",
    "        'Source':'DB',\n",
    "        'Document Type':'DT',\n",
    "        'Year':'PY',\n",
    "        'Author Keywords':'DE', 'Index Keywords':'ID', \n",
    "        'Abstract':'AB', \n",
    "        'Authors with affiliations':'C1',\n",
    "        'Cited by':'TC', \n",
    "        'References':'CR', \n",
    "        'Volume':'VL', \n",
    "        'Issue':'IS',\n",
    "        'Language of Original Document':'LA',\n",
    "        'Conference name': 'CT', 'Conference date':'CY', 'Conference location':'CL', \n",
    "        'ISSN':'SN', 'ISBN':'BN', 'DOI':'DI', \n",
    "        'Page start':'BP', 'Page end':'EP', 'Page count':'PG',\n",
    "        'Publisher':'PU'}, \n",
    "              inplace = True)\n",
    "    return()"
   ]
  },
  {
   "cell_type": "code",
   "execution_count": 419,
   "metadata": {},
   "outputs": [],
   "source": [
    "def add_country(df):\n",
    "    \"\"\"\n",
    "    Reads the \"Affiliations\" column and: (1) extracts the country of the first author, adding \n",
    "    it to df in column \"AU1_CO\"; (2) extracts the country of the co-authors, adding it to df\n",
    "    in column \"AU_CO\".\n",
    "    \"\"\"\n",
    "    df[\"AU1_CO\"] = \"\"\n",
    "    df[\"AU_CO\"] = \"\"\n",
    "    df['AU1_CO'] = df['AU1_CO'].astype(object)\n",
    "    df['AU_CO'] = df['AU_CO'].astype(object)\n",
    "    \n",
    "    AU_CO_list = []   # Co-author's countries list\n",
    "    \n",
    "    for i in range(0,df.shape[0]):          # Iterate over all rows\n",
    "        element = df.loc[i,'Affiliations']  # Select the cell\n",
    "        \n",
    "        if pd.isna(element) == True:  # If cell = nan\n",
    "            df.at[i, 'AU_CO'] = 'nan'\n",
    "            df.at[i, 'AU1_CO'] = 'nan'\n",
    "            \n",
    "        elif pd.isna(element) == False:  # cell != nan\n",
    "            for j in range(0,len(element.split(';'))):\n",
    "                if j == 0:  # First Author\n",
    "                    df.at[i, 'AU1_CO'] = df.loc[i,'Affiliations'].split(';')[j].split(',')[-1]\n",
    "                    \n",
    "                else:       # Co-authors\n",
    "                    AU_CO_list.append(df.loc[i,'Affiliations'].split(';')[j].split(',')[-1])\n",
    "                \n",
    "            df.at[i, 'AU_CO'] = ';'.join(AU_CO_list)\n",
    "            AU_CO_list = []\n",
    "        else:\n",
    "            'Something weird happened'\n",
    "    return()"
   ]
  },
  {
   "cell_type": "code",
   "execution_count": 420,
   "metadata": {},
   "outputs": [],
   "source": [
    "def add_CR_AU(df):\n",
    "    \"\"\"\n",
    "    Creates the \"CR_AU\" column based on the \"References\" column of the dataframe. \n",
    "    \"\"\"\n",
    "    \n",
    "    df[\"CR_AU\"] = \"\"\n",
    "    df['CR_AU'] = df['CR_AU'].astype(object)\n",
    "    lista = []\n",
    "    for row in range(0, df.shape[0]):  # Iterate over all rows\n",
    "        \n",
    "        references = df.loc[row,'References'] # All references of each row\n",
    "        if pd.isna(references) == True:  # If cell = nan\n",
    "            df.at[row, 'CR_AU'] = 'nan'\n",
    "            \n",
    "        elif pd.isna(references) == False:  # cell != nan\n",
    "            for i in range(0, len(references.split(';'))):  # Get first author\n",
    "                lista.append(references.split(';')[i].split(',')[0])\n",
    "            df.at[row, 'CR_AU'] = ';'.join(lista)\n",
    "            lista = []\n",
    "        else:\n",
    "            'Something weird happened'"
   ]
  },
  {
   "cell_type": "code",
   "execution_count": 422,
   "metadata": {},
   "outputs": [
    {
     "data": {
      "text/plain": [
       "()"
      ]
     },
     "execution_count": 422,
     "metadata": {},
     "output_type": "execute_result"
    },
    {
     "data": {
      "text/plain": [
       "()"
      ]
     },
     "execution_count": 422,
     "metadata": {},
     "output_type": "execute_result"
    },
    {
     "data": {
      "text/plain": [
       "()"
      ]
     },
     "execution_count": 422,
     "metadata": {},
     "output_type": "execute_result"
    }
   ],
   "source": [
    "add_country(df)\n",
    "add_CR_AU(df)\n",
    "relabel(df)\n",
    "label_remove(df)\n",
    "df.to_csv(\"new_scopus.csv\", index = False)"
   ]
  },
  {
   "cell_type": "code",
   "execution_count": null,
   "metadata": {},
   "outputs": [],
   "source": []
  },
  {
   "cell_type": "code",
   "execution_count": null,
   "metadata": {},
   "outputs": [],
   "source": []
  },
  {
   "cell_type": "code",
   "execution_count": null,
   "metadata": {},
   "outputs": [],
   "source": []
  },
  {
   "cell_type": "code",
   "execution_count": null,
   "metadata": {},
   "outputs": [],
   "source": []
  },
  {
   "cell_type": "code",
   "execution_count": 431,
   "metadata": {},
   "outputs": [],
   "source": [
    "from pybliometrics.scopus import AbstractRetrieval"
   ]
  },
  {
   "cell_type": "code",
   "execution_count": 432,
   "metadata": {},
   "outputs": [
    {
     "ename": "Scopus401Error",
     "evalue": "The requestor is not authorized to access the requested view or fields of the resource",
     "output_type": "error",
     "traceback": [
      "\u001b[0;31m---------------------------------------------------------------------------\u001b[0m",
      "\u001b[0;31mScopus401Error\u001b[0m                            Traceback (most recent call last)",
      "\u001b[0;32m<ipython-input-432-30c746f9e5f0>\u001b[0m in \u001b[0;36m<module>\u001b[0;34m\u001b[0m\n\u001b[0;32m----> 1\u001b[0;31m \u001b[0mab\u001b[0m \u001b[0;34m=\u001b[0m \u001b[0mAbstractRetrieval\u001b[0m\u001b[0;34m(\u001b[0m\u001b[0;34m\"https://www.scopus.com/inward/record.uri?eid=2-s2.0-0037076429&doi=10.1073%2fpnas.082081099&partnerID=40&md5=6c886d82996e9f30136130182130265f\"\u001b[0m\u001b[0;34m)\u001b[0m\u001b[0;34m\u001b[0m\u001b[0;34m\u001b[0m\u001b[0m\n\u001b[0m\u001b[1;32m      2\u001b[0m \u001b[0mab\u001b[0m\u001b[0;34m.\u001b[0m\u001b[0mtitle\u001b[0m\u001b[0;34m\u001b[0m\u001b[0;34m\u001b[0m\u001b[0m\n",
      "\u001b[0;32m~/opt/anaconda3/envs/quantum/lib/python3.8/site-packages/pybliometrics/scopus/abstract_retrieval.py\u001b[0m in \u001b[0;36m__init__\u001b[0;34m(self, identifier, refresh, view, id_type)\u001b[0m\n\u001b[1;32m    608\u001b[0m \u001b[0;34m\u001b[0m\u001b[0m\n\u001b[1;32m    609\u001b[0m         \u001b[0;31m# Load json\u001b[0m\u001b[0;34m\u001b[0m\u001b[0;34m\u001b[0m\u001b[0;34m\u001b[0m\u001b[0m\n\u001b[0;32m--> 610\u001b[0;31m         Retrieval.__init__(self, identifier=identifier, id_type=id_type,\n\u001b[0m\u001b[1;32m    611\u001b[0m                            api='AbstractRetrieval', refresh=refresh, view=view)\n\u001b[1;32m    612\u001b[0m         \u001b[0mself\u001b[0m\u001b[0;34m.\u001b[0m\u001b[0m_json\u001b[0m \u001b[0;34m=\u001b[0m \u001b[0mself\u001b[0m\u001b[0;34m.\u001b[0m\u001b[0m_json\u001b[0m\u001b[0;34m[\u001b[0m\u001b[0;34m'abstracts-retrieval-response'\u001b[0m\u001b[0;34m]\u001b[0m\u001b[0;34m\u001b[0m\u001b[0;34m\u001b[0m\u001b[0m\n",
      "\u001b[0;32m~/opt/anaconda3/envs/quantum/lib/python3.8/site-packages/pybliometrics/scopus/superclasses/retrieval.py\u001b[0m in \u001b[0;36m__init__\u001b[0;34m(self, identifier, api, refresh, view, id_type, date)\u001b[0m\n\u001b[1;32m     60\u001b[0m         \u001b[0;31m# Parse file contents\u001b[0m\u001b[0;34m\u001b[0m\u001b[0;34m\u001b[0m\u001b[0;34m\u001b[0m\u001b[0m\n\u001b[1;32m     61\u001b[0m         \u001b[0mqfile\u001b[0m \u001b[0;34m=\u001b[0m \u001b[0mjoin\u001b[0m\u001b[0;34m(\u001b[0m\u001b[0mget_folder\u001b[0m\u001b[0;34m(\u001b[0m\u001b[0mapi\u001b[0m\u001b[0;34m,\u001b[0m \u001b[0mview\u001b[0m\u001b[0;34m)\u001b[0m\u001b[0;34m,\u001b[0m \u001b[0midentifier\u001b[0m\u001b[0;34m.\u001b[0m\u001b[0mreplace\u001b[0m\u001b[0;34m(\u001b[0m\u001b[0;34m'/'\u001b[0m\u001b[0;34m,\u001b[0m \u001b[0;34m'_'\u001b[0m\u001b[0;34m)\u001b[0m\u001b[0;34m)\u001b[0m\u001b[0;34m\u001b[0m\u001b[0;34m\u001b[0m\u001b[0m\n\u001b[0;32m---> 62\u001b[0;31m         \u001b[0mBase\u001b[0m\u001b[0;34m.\u001b[0m\u001b[0m__init__\u001b[0m\u001b[0;34m(\u001b[0m\u001b[0mself\u001b[0m\u001b[0;34m,\u001b[0m \u001b[0mqfile\u001b[0m\u001b[0;34m,\u001b[0m \u001b[0mrefresh\u001b[0m\u001b[0;34m,\u001b[0m \u001b[0mparams\u001b[0m\u001b[0;34m=\u001b[0m\u001b[0mparams\u001b[0m\u001b[0;34m,\u001b[0m \u001b[0murl\u001b[0m\u001b[0;34m=\u001b[0m\u001b[0murl\u001b[0m\u001b[0;34m)\u001b[0m\u001b[0;34m\u001b[0m\u001b[0;34m\u001b[0m\u001b[0m\n\u001b[0m\u001b[1;32m     63\u001b[0m         \u001b[0;31m# print(self._json)\u001b[0m\u001b[0;34m\u001b[0m\u001b[0;34m\u001b[0m\u001b[0;34m\u001b[0m\u001b[0m\n\u001b[1;32m     64\u001b[0m         \u001b[0mself\u001b[0m\u001b[0;34m.\u001b[0m\u001b[0m_view\u001b[0m \u001b[0;34m=\u001b[0m \u001b[0mview\u001b[0m\u001b[0;34m\u001b[0m\u001b[0;34m\u001b[0m\u001b[0m\n",
      "\u001b[0;32m~/opt/anaconda3/envs/quantum/lib/python3.8/site-packages/pybliometrics/scopus/superclasses/base.py\u001b[0m in \u001b[0;36m__init__\u001b[0;34m(self, fname, refresh, params, url, download, max_entries, verbose, *args, **kwds)\u001b[0m\n\u001b[1;32m     68\u001b[0m                     \u001b[0mself\u001b[0m\u001b[0;34m.\u001b[0m\u001b[0m_json\u001b[0m \u001b[0;34m=\u001b[0m \u001b[0mloads\u001b[0m\u001b[0;34m(\u001b[0m\u001b[0mf\u001b[0m\u001b[0;34m.\u001b[0m\u001b[0mread\u001b[0m\u001b[0;34m(\u001b[0m\u001b[0;34m)\u001b[0m\u001b[0;34m.\u001b[0m\u001b[0mdecode\u001b[0m\u001b[0;34m(\u001b[0m\u001b[0;34m'utf-8'\u001b[0m\u001b[0;34m)\u001b[0m\u001b[0;34m)\u001b[0m\u001b[0;34m\u001b[0m\u001b[0;34m\u001b[0m\u001b[0m\n\u001b[1;32m     69\u001b[0m         \u001b[0;32melse\u001b[0m\u001b[0;34m:\u001b[0m\u001b[0;34m\u001b[0m\u001b[0;34m\u001b[0m\u001b[0m\n\u001b[0;32m---> 70\u001b[0;31m             \u001b[0mresp\u001b[0m \u001b[0;34m=\u001b[0m \u001b[0mget_content\u001b[0m\u001b[0;34m(\u001b[0m\u001b[0murl\u001b[0m\u001b[0;34m,\u001b[0m \u001b[0mparams\u001b[0m\u001b[0;34m,\u001b[0m \u001b[0;34m*\u001b[0m\u001b[0margs\u001b[0m\u001b[0;34m,\u001b[0m \u001b[0;34m**\u001b[0m\u001b[0mkwds\u001b[0m\u001b[0;34m)\u001b[0m\u001b[0;34m\u001b[0m\u001b[0;34m\u001b[0m\u001b[0m\n\u001b[0m\u001b[1;32m     71\u001b[0m             \u001b[0mheader\u001b[0m \u001b[0;34m=\u001b[0m \u001b[0mresp\u001b[0m\u001b[0;34m.\u001b[0m\u001b[0mheaders\u001b[0m\u001b[0;34m\u001b[0m\u001b[0;34m\u001b[0m\u001b[0m\n\u001b[1;32m     72\u001b[0m             \u001b[0;32mif\u001b[0m \u001b[0msearch_request\u001b[0m\u001b[0;34m:\u001b[0m\u001b[0;34m\u001b[0m\u001b[0;34m\u001b[0m\u001b[0m\n",
      "\u001b[0;32m~/opt/anaconda3/envs/quantum/lib/python3.8/site-packages/pybliometrics/scopus/utils/get_content.py\u001b[0m in \u001b[0;36mget_content\u001b[0;34m(url, params, *args, **kwds)\u001b[0m\n\u001b[1;32m     85\u001b[0m             \u001b[0;32mexcept\u001b[0m\u001b[0;34m:\u001b[0m\u001b[0;34m\u001b[0m\u001b[0;34m\u001b[0m\u001b[0m\n\u001b[1;32m     86\u001b[0m                 \u001b[0mreason\u001b[0m \u001b[0;34m=\u001b[0m \u001b[0;34m\"\"\u001b[0m\u001b[0;34m\u001b[0m\u001b[0;34m\u001b[0m\u001b[0m\n\u001b[0;32m---> 87\u001b[0;31m         \u001b[0;32mraise\u001b[0m \u001b[0merrors\u001b[0m\u001b[0;34m[\u001b[0m\u001b[0mresp\u001b[0m\u001b[0;34m.\u001b[0m\u001b[0mstatus_code\u001b[0m\u001b[0;34m]\u001b[0m\u001b[0;34m(\u001b[0m\u001b[0mreason\u001b[0m\u001b[0;34m)\u001b[0m\u001b[0;34m\u001b[0m\u001b[0;34m\u001b[0m\u001b[0m\n\u001b[0m\u001b[1;32m     88\u001b[0m     \u001b[0;32mexcept\u001b[0m \u001b[0mKeyError\u001b[0m\u001b[0;34m:\u001b[0m\u001b[0;34m\u001b[0m\u001b[0;34m\u001b[0m\u001b[0m\n\u001b[1;32m     89\u001b[0m         \u001b[0mresp\u001b[0m\u001b[0;34m.\u001b[0m\u001b[0mraise_for_status\u001b[0m\u001b[0;34m(\u001b[0m\u001b[0;34m)\u001b[0m\u001b[0;34m\u001b[0m\u001b[0;34m\u001b[0m\u001b[0m\n",
      "\u001b[0;31mScopus401Error\u001b[0m: The requestor is not authorized to access the requested view or fields of the resource"
     ]
    }
   ],
   "source": [
    "ab = AbstractRetrieval(\"https://www.scopus.com/inward/record.uri?eid=2-s2.0-0037076429&doi=10.1073%2fpnas.082081099&partnerID=40&md5=6c886d82996e9f30136130182130265f\")\n",
    "ab.title"
   ]
  },
  {
   "cell_type": "code",
   "execution_count": null,
   "metadata": {},
   "outputs": [],
   "source": []
  },
  {
   "cell_type": "code",
   "execution_count": null,
   "metadata": {},
   "outputs": [],
   "source": [
    "\n",
    ">>> ab.publicationName\n",
    "'SoftwareX'\n",
    ">>> ab.authors\n",
    "[Author(auid='57209617104', indexed_name='Rose M.E.', surname='Rose',\n",
    " given_name='Michael E.', affiliation=['60105007']),\n",
    " Author(auid='7004212771', indexed_name='Kitchin J.R.', surname='Kitchin',\n",
    " given_name='John R.', affiliation=['60027950'])]\n",
    ">>>\n",
    ">>> # Author-specific information\n",
    ">>> from pybliometrics.scopus import AuthorRetrieval\n",
    ">>> au2 = AuthorRetrieval(ab.authors[1].auid)\n",
    ">>> au2.h_index\n",
    "'30'\n",
    ">>> au1 = AuthorRetrieval(ab.authors[0].auid)\n",
    ">>> au1.affiliation_current\n",
    "[Affiliation(id='60105007', parent=None, type='parent', relationship='author',\n",
    " afdispname=None, preferred_name='Max Planck Institute for Innovation and Competition',\n",
    " parent_preferred_name=None, country_code='deu', country='Germany',\n",
    " address_part='Marstallplatz 1', city='Munich', state=None,\n",
    " postal_code='80539', org_domain=None, org_URL='http://www.ip.mpg.de/')]\n",
    ">>>\n",
    ">>> # Affiliation information\n",
    ">>> from pybliometrics.scopus import ContentAffiliationRetrieval\n",
    ">>> aff1 = ContentAffiliationRetrieval(au1.affiliation_current[0].id)\n",
    ">>> aff1.author_count\n",
    "'72'"
   ]
  }
 ],
 "metadata": {
  "kernelspec": {
   "display_name": "quantum",
   "language": "python",
   "name": "quantum"
  },
  "language_info": {
   "codemirror_mode": {
    "name": "ipython",
    "version": 3
   },
   "file_extension": ".py",
   "mimetype": "text/x-python",
   "name": "python",
   "nbconvert_exporter": "python",
   "pygments_lexer": "ipython3",
   "version": "3.8.3"
  }
 },
 "nbformat": 4,
 "nbformat_minor": 4
}
